{
 "cells": [
  {
   "cell_type": "code",
   "execution_count": 1,
   "id": "c0dad147-d94b-45d6-8cba-1d5eff9f94eb",
   "metadata": {},
   "outputs": [],
   "source": [
    "import gradio as gr\n",
    "import random"
   ]
  },
  {
   "cell_type": "code",
   "execution_count": 2,
   "id": "9ba447ad-1135-49c5-90d2-6839288b74c9",
   "metadata": {},
   "outputs": [],
   "source": [
    "# List of words to choose from\n",
    "words = [\"python\", \"hangman\", \"programming\", \"computer\", \"algorithm\", \"developer\", \"software\"]"
   ]
  },
  {
   "cell_type": "code",
   "execution_count": 3,
   "id": "067f4719-30e9-4442-9641-e8ba9d975c43",
   "metadata": {},
   "outputs": [],
   "source": [
    "game_state = {\n",
    "    \"word\": random.choice(words),\n",
    "    \"max_attempts\": 6,\n",
    "    \"attempts\": 0,\n",
    "    \"guessed_letters\": set(),\n",
    "    \"current_word\": []\n",
    "}"
   ]
  },
  {
   "cell_type": "code",
   "execution_count": 4,
   "id": "731e7503-620e-44d3-9758-628ee3a85a36",
   "metadata": {},
   "outputs": [],
   "source": [
    "# Reset function\n",
    "def reset_game():\n",
    "    game_state[\"word\"] = random.choice(words)\n",
    "    game_state[\"attempts\"] = 0\n",
    "    game_state[\"guessed_letters\"] = set()\n",
    "    game_state[\"current_word\"] = [\"_\"] * len(game_state[\"word\"])\n",
    "    return update_display(\"\", reset=True)"
   ]
  },
  {
   "cell_type": "code",
   "execution_count": 9,
   "id": "df69c804-1752-42e0-bf6e-73cbc1642d9c",
   "metadata": {},
   "outputs": [],
   "source": [
    "def update_display(guess, reset=False):\n",
    "    if reset:\n",
    "        return \" \".join(game_state[\"current_word\"]), \"Game reset! Start guessing!\", game_state[\"max_attempts\"]\n",
    "\n",
    "    guess = guess.lower().strip()\n",
    "\n",
    "    # Input validation\n",
    "    if len(guess) != 1 or not guess.isalpha():\n",
    "        return \" \".join(game_state[\"current_word\"]), \"Please enter a single valid letter.\", game_state[\"max_attempts\"] - game_state[\"attempts\"]\n",
    "\n",
    "    # Check if the letter has already been guessed\n",
    "    if guess in game_state[\"guessed_letters\"]:\n",
    "        return \" \".join(game_state[\"current_word\"]), \"You've already guessed that letter!\", game_state[\"max_attempts\"] - game_state[\"attempts\"]\n",
    "\n",
    "    # Add to guessed letters\n",
    "    game_state[\"guessed_letters\"].add(guess)\n",
    "\n",
    "    # Check if the guess is in the word\n",
    "    if guess in game_state[\"word\"]:\n",
    "        for i in range(len(game_state[\"word\"])):\n",
    "            if game_state[\"word\"][i] == guess:\n",
    "                game_state[\"current_word\"][i] = guess\n",
    "        message = f\"Good job! '{guess}' is in the word.\"\n",
    "    else:\n",
    "        game_state[\"attempts\"] += 1\n",
    "        message = f\"Sorry, '{guess}' is not in the word. {game_state['max_attempts'] - game_state['attempts']} attempts left\"\n",
    "\n",
    "    # Check if the game is over\n",
    "    if \"_\" not in game_state[\"current_word\"]:\n",
    "        return \" \".join(game_state[\"current_word\"]), f\"Congratulations! You guessed the word: {game_state['word']}\", 0\n",
    "    if game_state[\"attempts\"] == game_state[\"max_attempts\"]:\n",
    "        return \" \".join(game_state[\"current_word\"]), f\"Game over! The word was: {game_state['word']}\", 0\n",
    "\n",
    "    return \" \".join(game_state[\"current_word\"]), message, game_state[\"max_attempts\"] - game_state[\"attempts\"]"
   ]
  },
  {
   "cell_type": "code",
   "execution_count": 10,
   "id": "df0ec12b-6b2b-49a6-a625-c2413e8a3173",
   "metadata": {},
   "outputs": [],
   "source": [
    "# Initial state setup\n",
    "game_state[\"current_word\"] = [\"_\"] * len(game_state[\"word\"])"
   ]
  },
  {
   "cell_type": "code",
   "execution_count": 11,
   "id": "c1471ac9-924f-4922-9fcf-6c32ffacae65",
   "metadata": {},
   "outputs": [],
   "source": [
    "# Gradio UI\n",
    "with gr.Blocks() as demo:\n",
    "    gr.Markdown(\"# 🏆 Hangman Game\")\n",
    "    gr.Markdown(\"Try to guess the word by entering one letter at a time.\")\n",
    "\n",
    "    with gr.Row():\n",
    "        word_display = gr.Textbox(value=\" \".join(game_state[\"current_word\"]), label=\"Current Word\", interactive=False)\n",
    "        attempts_display = gr.Textbox(value=str(game_state[\"max_attempts\"]), label=\"Attempts Left\", interactive=False)\n",
    "\n",
    "    guess_input = gr.Textbox(label=\"Enter a letter\", max_length=1)\n",
    "    message_output = gr.Textbox(label=\"Message\", interactive=False)\n",
    "\n",
    "    guess_button = gr.Button(\"Submit Guess\")\n",
    "    reset_button = gr.Button(\"Reset Game\")\n",
    "\n",
    "    guess_button.click(update_display, inputs=[guess_input], outputs=[word_display, message_output, attempts_display])\n",
    "    reset_button.click(reset_game, inputs=[], outputs=[word_display, message_output, attempts_display])"
   ]
  },
  {
   "cell_type": "code",
   "execution_count": 14,
   "id": "3253c65e-58bf-4664-8cc9-29c8e4ac6163",
   "metadata": {},
   "outputs": [
    {
     "name": "stdout",
     "output_type": "stream",
     "text": [
      "* Running on local URL:  http://127.0.0.1:7873\n",
      "* Running on public URL: https://08049f7571f3b7be30.gradio.live\n",
      "\n",
      "This share link expires in 72 hours. For free permanent hosting and GPU upgrades, run `gradio deploy` from the terminal in the working directory to deploy to Hugging Face Spaces (https://huggingface.co/spaces)\n"
     ]
    },
    {
     "data": {
      "text/html": [
       "<div><iframe src=\"https://08049f7571f3b7be30.gradio.live\" width=\"100%\" height=\"500\" allow=\"autoplay; camera; microphone; clipboard-read; clipboard-write;\" frameborder=\"0\" allowfullscreen></iframe></div>"
      ],
      "text/plain": [
       "<IPython.core.display.HTML object>"
      ]
     },
     "metadata": {},
     "output_type": "display_data"
    },
    {
     "data": {
      "text/plain": []
     },
     "execution_count": 14,
     "metadata": {},
     "output_type": "execute_result"
    }
   ],
   "source": [
    "demo.launch(share=True)"
   ]
  },
  {
   "cell_type": "code",
   "execution_count": 13,
   "id": "8c7cd935-f5eb-44f3-b8a9-085c41ad4d7d",
   "metadata": {},
   "outputs": [
    {
     "name": "stdout",
     "output_type": "stream",
     "text": [
      "Closing server running on port: 7873\n"
     ]
    }
   ],
   "source": [
    "demo.close()"
   ]
  }
 ],
 "metadata": {
  "kernelspec": {
   "display_name": "Python 3 (ipykernel)",
   "language": "python",
   "name": "python3"
  },
  "language_info": {
   "codemirror_mode": {
    "name": "ipython",
    "version": 3
   },
   "file_extension": ".py",
   "mimetype": "text/x-python",
   "name": "python",
   "nbconvert_exporter": "python",
   "pygments_lexer": "ipython3",
   "version": "3.12.4"
  }
 },
 "nbformat": 4,
 "nbformat_minor": 5
}
